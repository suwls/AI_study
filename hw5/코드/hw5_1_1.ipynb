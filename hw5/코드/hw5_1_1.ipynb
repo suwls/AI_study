{
 "cells": [
  {
   "cell_type": "code",
   "execution_count": 1,
   "metadata": {},
   "outputs": [
    {
     "name": "stdout",
     "output_type": "stream",
     "text": [
      "     principal component 1  principal component 2\n",
      "0                -2.684207               0.326607\n",
      "1                -2.715391              -0.169557\n",
      "2                -2.889820              -0.137346\n",
      "3                -2.746437              -0.311124\n",
      "4                -2.728593               0.333925\n",
      "5                -2.279897               0.747783\n",
      "6                -2.820891              -0.082105\n",
      "7                -2.626482               0.170405\n",
      "8                -2.887959              -0.570798\n",
      "9                -2.673845              -0.106692\n",
      "10               -2.506527               0.651935\n",
      "11               -2.613143               0.021521\n",
      "12               -2.787434              -0.227740\n",
      "13               -3.225200              -0.503280\n",
      "14               -2.643543               1.186195\n",
      "15               -2.383869               1.344754\n",
      "16               -2.622526               0.818090\n",
      "17               -2.648323               0.319137\n",
      "18               -2.199078               0.879244\n",
      "19               -2.587346               0.520474\n",
      "20               -2.310532               0.397868\n",
      "21               -2.543235               0.440032\n",
      "22               -3.215858               0.141616\n",
      "23               -2.303129               0.105523\n",
      "24               -2.356171              -0.031210\n",
      "25               -2.507917              -0.139056\n",
      "26               -2.469056               0.137887\n",
      "27               -2.562391               0.374685\n",
      "28               -2.639821               0.319290\n",
      "29               -2.632848              -0.190076\n",
      "..                     ...                    ...\n",
      "120               2.428167               0.376782\n",
      "121               1.198097              -0.605579\n",
      "122               3.499265               0.456773\n",
      "123               1.387668              -0.204031\n",
      "124               2.275854               0.333387\n",
      "125               2.614194               0.558367\n",
      "126               1.257625              -0.179137\n",
      "127               1.290670              -0.116425\n",
      "128               2.122854              -0.210855\n",
      "129               2.387564               0.462519\n",
      "130               2.840961               0.372743\n",
      "131               3.232343               1.370524\n",
      "132               2.158738              -0.218326\n",
      "133               1.443103              -0.143801\n",
      "134               1.779640              -0.501465\n",
      "135               3.076522               0.685764\n",
      "136               2.144987               0.138907\n",
      "137               1.904863               0.048048\n",
      "138               1.168853              -0.164502\n",
      "139               2.107654               0.371482\n",
      "140               2.314303               0.182609\n",
      "141               1.922451               0.409271\n",
      "142               1.414072              -0.574925\n",
      "143               2.563323               0.275975\n",
      "144               2.419391               0.303504\n",
      "145               1.944017               0.187415\n",
      "146               1.525664              -0.375021\n",
      "147               1.764046               0.078519\n",
      "148               1.901629               0.115877\n",
      "149               1.389666              -0.282887\n",
      "\n",
      "[150 rows x 2 columns]\n"
     ]
    }
   ],
   "source": [
    "# -*- coding: utf -8 -*-\n",
    "\n",
    "import numpy as np\n",
    "import matplotlib.pyplot as plt\n",
    "from sklearn.cluster import KMeans\n",
    "import csv\n",
    "import matplotlib as mpl\n",
    "import pandas as pd\n",
    "from sklearn.decomposition import PCA\n",
    "\n",
    "temp = pd.read_csv('숙제5_데이터.csv')\n",
    "\n",
    "pca = PCA(n_components = 2)\n",
    "principalComponents = pca.fit_transform(temp)\n",
    "principalDf = pd.DataFrame(data = principalComponents, columns =['principal component 1', 'principal component 2'])\n",
    "\n",
    "print(principalDf)"
   ]
  },
  {
   "cell_type": "code",
   "execution_count": 12,
   "metadata": {},
   "outputs": [
    {
     "name": "stdout",
     "output_type": "stream",
     "text": [
      "[4.22484077 0.24224357]\n"
     ]
    }
   ],
   "source": [
    "print(pca.explained_variance_)"
   ]
  },
  {
   "cell_type": "code",
   "execution_count": 11,
   "metadata": {
    "scrolled": true
   },
   "outputs": [
    {
     "data": {
      "image/png": "[encoded data removed]",
      "text/plain": [
       "<Figure size 432x288 with 1 Axes>"
      ]
     },
     "metadata": {
      "needs_background": "light"
     },
     "output_type": "display_data"
    }
   ],
   "source": [
    "features = range(pca.n_components_)\n",
    "plt.bar(features, pca.explained_variance_)\n",
    "plt.xlabel('PCA feature')\n",
    "plt.ylabel('variance')\n",
    "plt.xticks(features)\n",
    "plt.show()"
   ]
  },
  {
   "cell_type": "code",
   "execution_count": 10,
   "metadata": {},
   "outputs": [
    {
     "data": {
      "image/png": "[encoded data removed]",
      "text/plain": [
       "<Figure size 576x576 with 1 Axes>"
      ]
     },
     "metadata": {
      "needs_background": "light"
     },
     "output_type": "display_data"
    }
   ],
   "source": [
    "fig = plt.figure(figsize = (8,8))\n",
    "ax = fig.add_subplot(1,1,1)\n",
    "ax.set_xlabel('Principal Component 1', fontsize = 15)\n",
    "ax.set_ylabel('Principal Component 2', fontsize = 15)\n",
    "ax.set_title('2 component PCA', fontsize = 20)\n",
    "\n",
    "# colors = ['r', 'g']\n",
    "# for color in zip(colors):\n",
    "#     ax.scatter(principalDf[ 'principal component 1'], principalDf[ 'principal component 2']\n",
    "#                , c = color\n",
    "#         , s = 50)\n",
    "\n",
    "ax.scatter(principalDf[ 'principal component 1'], principalDf[ 'principal component 2'])\n",
    "ax.grid()"
   ]
  },
  {
   "cell_type": "code",
   "execution_count": null,
   "metadata": {},
   "outputs": [],
   "source": []
  }
 ],
 "metadata": {
  "kernelspec": {
   "display_name": "Python 3",
   "language": "python",
   "name": "python3"
  },
  "language_info": {
   "codemirror_mode": {
    "name": "ipython",
    "version": 3
   },
   "file_extension": ".py",
   "mimetype": "text/x-python",
   "name": "python",
   "nbconvert_exporter": "python",
   "pygments_lexer": "ipython3",
   "version": "3.7.0"
  }
 },
 "nbformat": 4,
 "nbformat_minor": 2
}
